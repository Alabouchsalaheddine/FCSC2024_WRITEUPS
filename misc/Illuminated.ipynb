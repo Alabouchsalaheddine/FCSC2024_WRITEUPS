{
  "cells": [
    {
      "cell_type": "code",
      "execution_count": 2,
      "metadata": {
        "colab": {
          "base_uri": "https://localhost:8080/"
        },
        "id": "OXOGrQVg89tu",
        "outputId": "1914801c-493f-447f-97bc-1f34e6662e8b"
      },
      "outputs": [
        {
          "name": "stdout",
          "output_type": "stream",
          "text": [
            "1415\n",
            "1414\n"
          ]
        }
      ],
      "source": [
        "import re\n",
        "\n",
        "def parse_percentage(my_list):\n",
        "    return [int(int(element.strip('%'))*255/100) if element != 'FL' else 255 for element in my_list]\n",
        "\n",
        "    # my_list = [element if element != 'FL' else \"0\" for element in my_list]\n",
        "    # return [255 if int(element.strip('%')) * 255 / 100 > 120 else 0 for element in my_list]\n",
        "\n",
        "# Replace 'your_file.txt' with the path to your text file\n",
        "file_path = 'capture.txt'\n",
        "\n",
        "\n",
        "# Regular expressions to extract frame number, universe, and DMX channels\n",
        "frame_number_pattern = r\"Frame (\\d+):\"\n",
        "universe_pattern = r\"Universe: (\\d+)\"\n",
        "dmx_channels_pattern = r\"DMX Channels\\n((?:.+\\n)+)\"\n",
        "# Open the file\n",
        "\n",
        "silver_data = []\n",
        "with open(file_path, 'r') as file:\n",
        "    # Read and print each line\n",
        "    file_content = file.read()\n",
        "    splitted_file = file_content.split(\"No.     Time           Text       ID         Frame length on the wire Extended Flag Time since reference or first frame Frame-Length Frame length stored into the capture file Time delta from previous captured frame Epoch Time Padding\")\n",
        "    print(len(splitted_file))\n",
        "    for text in splitted_file[1:] :\n",
        "      # print(text)\n",
        "      # packet = packet_noise.split(\"No.\")[0]\n",
        "      # print(packet)\n",
        "\n",
        "      time = float(text[9:].split(\" \")[0])\n",
        "      # Extract frame number\n",
        "      frame_number_match = re.search(frame_number_pattern, text)\n",
        "      frame_number = int(frame_number_match.group(1)) if frame_number_match else None\n",
        "\n",
        "      # Extract universe\n",
        "      universe_match = re.search(universe_pattern, text)\n",
        "      universe = int(universe_match.group(1)) if universe_match else None\n",
        "\n",
        "      # Extract DMX channels\n",
        "      dmx_channels_match = re.search(dmx_channels_pattern, text)\n",
        "      dmx_channels = dmx_channels_match.group(1) if dmx_channels_match else None\n",
        "\n",
        "      # Store the extracted information in a dictionary\n",
        "      data = {\n",
        "          \"time\" : time,\n",
        "          \"frame_number\": frame_number,\n",
        "          \"universe\": universe,\n",
        "          \"dmx_channels\": dmx_channels.strip() if dmx_channels else None\n",
        "      }\n",
        "      # print(data)\n",
        "      # print(len(data['dmx_channels'].split(\"\\n\")))\n",
        "\n",
        "      # # Splitting DMX channels by '\\n'\n",
        "      # dmx_channels_list = dmx_channels.split('\\n')\n",
        "\n",
        "      # # Extracting the first 10 channels for RED, the next 10 for GREEN, and the following 10 for BLUE\n",
        "      # red_channels = dmx_channels_list[:10]\n",
        "      # green_channels = dmx_channels_list[10:20]\n",
        "      # blue_channels = dmx_channels_list[20:30]\n",
        "\n",
        "\n",
        "      # data['RED'] = [parse_percentage(element.split(\":\")[1].strip().split()) for element in red_channels]\n",
        "      # data['GREEN'] = [parse_percentage(element.split(\":\")[1].strip().split()) for element in green_channels]\n",
        "      # data['BLUE'] = [parse_percentage(element.split(\":\")[1].strip().split()) for element in blue_channels]\n",
        "      # # print(data['RED'])\n",
        "      # # print(data['GREEN'])\n",
        "      # # print(data['BLUE'])\n",
        "      # print(data)\n",
        "      # break\n",
        "      silver_data.append(data)\n",
        "print(len(silver_data))\n",
        "# silver_data = sorted(silver_data, key=lambda x: x['frame_number'])\n",
        "silver_data = sorted(silver_data, key=lambda x: x['time'])\n",
        "\n"
      ]
    },
    {
      "cell_type": "code",
      "execution_count": 3,
      "metadata": {
        "id": "vCpfEHIkVlv6"
      },
      "outputs": [],
      "source": [
        "universe_0_list = []\n",
        "universe_1_list = []\n",
        "\n",
        "for item in silver_data:\n",
        "    if item['universe'] == 0:\n",
        "        universe_0_list.append(item)\n",
        "    elif item['universe'] == 1:\n",
        "        universe_1_list.append(item)\n",
        "# universe_0_list = sorted(universe_0_list, key=lambda x: x['frame_number'])\n",
        "# universe_1_list = sorted(universe_1_list, key=lambda x: x['frame_number'])\n"
      ]
    },
    {
      "cell_type": "code",
      "execution_count": 4,
      "metadata": {
        "id": "7YUk-UhFG5Q8"
      },
      "outputs": [],
      "source": [
        "gold_data = []\n",
        "for i in range(0, len(universe_0_list)-1):\n",
        "  data_uni_0 = universe_0_list[i]\n",
        "  data_uni_1 = universe_1_list[i+1]\n",
        "\n",
        "\n",
        "  dmx_channels_list = data_uni_0['dmx_channels'].split('\\n')\n",
        "\n",
        "  # Extracting the first 10 channels for RED, the next 10 for GREEN, and the following 10 for BLUE\n",
        "  # red_channels = dmx_channels_list[:10]\n",
        "  # green_channels = dmx_channels_list[10:20]\n",
        "  # blue_channels = dmx_channels_list[20:30]\n",
        "\n",
        "  red_channels = dmx_channels_list[0:30:3]\n",
        "  green_channels = dmx_channels_list[1:30:3]\n",
        "  blue_channels = dmx_channels_list[2:30:3]\n",
        "\n",
        "  tmp_dict = {}\n",
        "  tmp_dict['RED'] = [parse_percentage(element.split(\":\")[1].strip().split()) for element in red_channels]\n",
        "  tmp_dict['GREEN'] = [parse_percentage(element.split(\":\")[1].strip().split()) for element in green_channels]\n",
        "  tmp_dict['BLUE'] = [parse_percentage(element.split(\":\")[1].strip().split()) for element in blue_channels]\n",
        "\n",
        "\n",
        "\n",
        "\n",
        "\n",
        "  dmx_channels_list = data_uni_1['dmx_channels'].split('\\n')\n",
        "\n",
        "  # Extracting the first 10 channels for RED, the next 10 for GREEN, and the following 10 for BLUE\n",
        "  # red_channels = dmx_channels_list[:6]\n",
        "  # green_channels = dmx_channels_list[6:12]\n",
        "  # blue_channels = dmx_channels_list[12:18]\n",
        "\n",
        "  red_channels = dmx_channels_list[0:18:3]\n",
        "  green_channels = dmx_channels_list[1:18:3]\n",
        "  blue_channels = dmx_channels_list[2:18:3]\n",
        "\n",
        "\n",
        "  tmp_dict['RED'].extend([parse_percentage(element.split(\":\")[1].strip().split()) for element in red_channels])\n",
        "  tmp_dict['GREEN'].extend([parse_percentage(element.split(\":\")[1].strip().split()) for element in green_channels])\n",
        "  tmp_dict['BLUE'].extend([parse_percentage(element.split(\":\")[1].strip().split()) for element in blue_channels])\n",
        "\n",
        "\n",
        "  gold_data.append({\"RED\" : tmp_dict['RED'], \"GREEN\" : tmp_dict['GREEN'], \"BLUE\" : tmp_dict['BLUE'], \"FRAME\": i})"
      ]
    },
    {
      "cell_type": "code",
      "execution_count": 6,
      "metadata": {
        "colab": {
          "base_uri": "https://localhost:8080/"
        },
        "id": "ifGkc_w3OaJf",
        "outputId": "0edf0f1b-ebb3-415d-91c5-54d9649df8ff"
      },
      "outputs": [
        {
          "data": {
            "text/plain": [
              "706"
            ]
          },
          "execution_count": 6,
          "metadata": {},
          "output_type": "execute_result"
        }
      ],
      "source": [
        "len(gold_data)"
      ]
    },
    {
      "cell_type": "code",
      "execution_count": 8,
      "metadata": {
        "id": "bQhqtKnAPW07"
      },
      "outputs": [],
      "source": [
        "import cv2\n",
        "import numpy as np\n",
        "\n",
        "# Define the dimensions of the frames\n",
        "frame_width = 320\n",
        "frame_height = 320\n",
        "\n",
        "# Define the frame rate (FPS)\n",
        "fps = 30\n",
        "\n",
        "# Calculate the frame duration in milliseconds\n",
        "frame_duration = int(1000 / fps)\n",
        "\n",
        "# Create a VideoWriter object\n",
        "fourcc = cv2.VideoWriter_fourcc(*'XVID')\n",
        "out = cv2.VideoWriter('output_video.avi', fourcc, fps, (frame_width, frame_height))\n",
        "\n",
        "# Function to reverse every second row\n",
        "def reverse_even_rows(matrix):\n",
        "    for i in range(len(matrix)):\n",
        "        if i % 2 == 1:\n",
        "            matrix[i] = matrix[i][::-1]\n",
        "    return matrix\n",
        "\n",
        "# Iterate through each frame data\n",
        "for frame_data in gold_data:\n",
        "    # Create a blank frame\n",
        "    frame = np.zeros((frame_height, frame_width, 3), dtype=np.uint8)\n",
        "\n",
        "    # Upscale the color channels based on the frame data\n",
        "    blue_channel = np.array(frame_data['BLUE'])\n",
        "    green_channel = np.array(frame_data['GREEN'])\n",
        "    red_channel = np.array(frame_data['RED'])\n",
        "\n",
        "    # Reverse even rows\n",
        "    green_channel = reverse_even_rows(green_channel)\n",
        "    blue_channel = reverse_even_rows(blue_channel)\n",
        "    red_channel = reverse_even_rows(red_channel)\n",
        "\n",
        "    # Upscale to 320x320\n",
        "    # frame[:, :, 0] = cv2.resize(blue_channel, (frame_width, frame_height), interpolation=cv2.INTER_NEAREST)\n",
        "    frame[:, :, 1] = cv2.resize(green_channel, (frame_width, frame_height), interpolation=cv2.INTER_NEAREST)\n",
        "    # frame[:, :, 2] = cv2.resize(red_channel, (frame_width, frame_height), interpolation=cv2.INTER_NEAREST)\n",
        "\n",
        "    # Write the frame to the video\n",
        "    out.write(frame)\n",
        "\n",
        "# Release the VideoWriter object\n",
        "out.release()\n"
      ]
    },
    {
      "cell_type": "markdown",
      "metadata": {
        "id": "hQ1ANnVmzlG2"
      },
      "source": [
        "FCSC{L1ghtD3sign3rCr-gg!}"
      ]
    }
  ],
  "metadata": {
    "colab": {
      "provenance": []
    },
    "kernelspec": {
      "display_name": "Python 3",
      "name": "python3"
    },
    "language_info": {
      "name": "python"
    }
  },
  "nbformat": 4,
  "nbformat_minor": 0
}
